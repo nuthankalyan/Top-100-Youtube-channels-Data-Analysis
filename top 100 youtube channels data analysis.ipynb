{
 "cells": [
  {
   "cell_type": "markdown",
   "id": "6e4e07dd",
   "metadata": {},
   "source": [
    "# Importing libraries"
   ]
  },
  {
   "cell_type": "code",
   "execution_count": 45,
   "id": "74e5585a",
   "metadata": {},
   "outputs": [],
   "source": [
    "import numpy as np\n",
    "import pandas as pd\n",
    "import matplotlib.pyplot as plt\n",
    "import numpy as np"
   ]
  },
  {
   "cell_type": "markdown",
   "id": "41cde792",
   "metadata": {},
   "source": [
    "# Reading the Dataset."
   ]
  },
  {
   "cell_type": "code",
   "execution_count": 46,
   "id": "2142ade0",
   "metadata": {},
   "outputs": [],
   "source": [
    "df = pd.read_csv(\"C:/Users/nutha/Desktop/Top_100_Youtube_Channels_2023.csv\")"
   ]
  },
  {
   "cell_type": "markdown",
   "id": "d16699c0",
   "metadata": {},
   "source": [
    "# Describing about the data"
   ]
  },
  {
   "cell_type": "code",
   "execution_count": 47,
   "id": "712e3482",
   "metadata": {
    "scrolled": true
   },
   "outputs": [
    {
     "name": "stdout",
     "output_type": "stream",
     "text": [
      "<class 'pandas.core.frame.DataFrame'>\n",
      "RangeIndex: 100 entries, 0 to 99\n",
      "Data columns (total 7 columns):\n",
      " #   Column               Non-Null Count  Dtype \n",
      "---  ------               --------------  ----- \n",
      " 0   Unnamed: 0           100 non-null    int64 \n",
      " 1   Channel Name         100 non-null    object\n",
      " 2   User Name            100 non-null    object\n",
      " 3   Subscribers          100 non-null    object\n",
      " 4   Views                100 non-null    object\n",
      " 5   Videos               100 non-null    int64 \n",
      " 6   Channel Description  92 non-null     object\n",
      "dtypes: int64(2), object(5)\n",
      "memory usage: 5.6+ KB\n"
     ]
    }
   ],
   "source": [
    "df.info()"
   ]
  },
  {
   "cell_type": "code",
   "execution_count": 48,
   "id": "c8111e21",
   "metadata": {},
   "outputs": [
    {
     "data": {
      "text/plain": [
       "(100, 7)"
      ]
     },
     "execution_count": 48,
     "metadata": {},
     "output_type": "execute_result"
    }
   ],
   "source": [
    "df.shape"
   ]
  },
  {
   "cell_type": "code",
   "execution_count": 49,
   "id": "5c9d053d",
   "metadata": {},
   "outputs": [
    {
     "data": {
      "text/plain": [
       "Index(['Unnamed: 0', 'Channel Name', 'User Name', 'Subscribers', 'Views',\n",
       "       'Videos', 'Channel Description'],\n",
       "      dtype='object')"
      ]
     },
     "execution_count": 49,
     "metadata": {},
     "output_type": "execute_result"
    }
   ],
   "source": [
    "df.columns"
   ]
  },
  {
   "cell_type": "code",
   "execution_count": 50,
   "id": "73446f67",
   "metadata": {},
   "outputs": [
    {
     "data": {
      "text/html": [
       "<div>\n",
       "<style scoped>\n",
       "    .dataframe tbody tr th:only-of-type {\n",
       "        vertical-align: middle;\n",
       "    }\n",
       "\n",
       "    .dataframe tbody tr th {\n",
       "        vertical-align: top;\n",
       "    }\n",
       "\n",
       "    .dataframe thead th {\n",
       "        text-align: right;\n",
       "    }\n",
       "</style>\n",
       "<table border=\"1\" class=\"dataframe\">\n",
       "  <thead>\n",
       "    <tr style=\"text-align: right;\">\n",
       "      <th></th>\n",
       "      <th>Unnamed: 0</th>\n",
       "      <th>Channel Name</th>\n",
       "      <th>User Name</th>\n",
       "      <th>Subscribers</th>\n",
       "      <th>Views</th>\n",
       "      <th>Videos</th>\n",
       "      <th>Channel Description</th>\n",
       "    </tr>\n",
       "  </thead>\n",
       "  <tbody>\n",
       "    <tr>\n",
       "      <th>0</th>\n",
       "      <td>0</td>\n",
       "      <td>T-Series</td>\n",
       "      <td>@tseries</td>\n",
       "      <td>248M</td>\n",
       "      <td>232B</td>\n",
       "      <td>19430</td>\n",
       "      <td>'\"Music can change the world\". T-Series is Ind...</td>\n",
       "    </tr>\n",
       "    <tr>\n",
       "      <th>1</th>\n",
       "      <td>1</td>\n",
       "      <td>MrBeast</td>\n",
       "      <td>@mrbeast</td>\n",
       "      <td>181M</td>\n",
       "      <td>31B</td>\n",
       "      <td>747</td>\n",
       "      <td>'SUBSCRIBE FOR A COOKIE!\\nAccomplishments:\\n- ...</td>\n",
       "    </tr>\n",
       "    <tr>\n",
       "      <th>2</th>\n",
       "      <td>2</td>\n",
       "      <td>YouTube Movies</td>\n",
       "      <td>YouTube Movies</td>\n",
       "      <td>173M</td>\n",
       "      <td>0</td>\n",
       "      <td>0</td>\n",
       "      <td>\"YouTube's movies destination featuring the la...</td>\n",
       "    </tr>\n",
       "    <tr>\n",
       "      <th>3</th>\n",
       "      <td>3</td>\n",
       "      <td>Cocomelon - Nursery Rhymes</td>\n",
       "      <td>@cocomelon</td>\n",
       "      <td>164M</td>\n",
       "      <td>168B</td>\n",
       "      <td>1001</td>\n",
       "      <td>'At CoComelon, our primary goal has always bee...</td>\n",
       "    </tr>\n",
       "    <tr>\n",
       "      <th>4</th>\n",
       "      <td>4</td>\n",
       "      <td>SET India</td>\n",
       "      <td>@setindia</td>\n",
       "      <td>161M</td>\n",
       "      <td>151B</td>\n",
       "      <td>118126</td>\n",
       "      <td>'Sony Entertainment Television is one of the l...</td>\n",
       "    </tr>\n",
       "  </tbody>\n",
       "</table>\n",
       "</div>"
      ],
      "text/plain": [
       "   Unnamed: 0                Channel Name       User Name Subscribers Views  \\\n",
       "0           0                    T-Series        @tseries        248M  232B   \n",
       "1           1                     MrBeast        @mrbeast        181M   31B   \n",
       "2           2              YouTube Movies  YouTube Movies        173M     0   \n",
       "3           3  Cocomelon - Nursery Rhymes      @cocomelon        164M  168B   \n",
       "4           4                   SET India       @setindia        161M  151B   \n",
       "\n",
       "   Videos                                Channel Description  \n",
       "0   19430  '\"Music can change the world\". T-Series is Ind...  \n",
       "1     747  'SUBSCRIBE FOR A COOKIE!\\nAccomplishments:\\n- ...  \n",
       "2       0  \"YouTube's movies destination featuring the la...  \n",
       "3    1001  'At CoComelon, our primary goal has always bee...  \n",
       "4  118126  'Sony Entertainment Television is one of the l...  "
      ]
     },
     "execution_count": 50,
     "metadata": {},
     "output_type": "execute_result"
    }
   ],
   "source": [
    "df.head()"
   ]
  },
  {
   "cell_type": "code",
   "execution_count": 51,
   "id": "0e60f17d",
   "metadata": {
    "scrolled": true
   },
   "outputs": [
    {
     "data": {
      "text/html": [
       "<div>\n",
       "<style scoped>\n",
       "    .dataframe tbody tr th:only-of-type {\n",
       "        vertical-align: middle;\n",
       "    }\n",
       "\n",
       "    .dataframe tbody tr th {\n",
       "        vertical-align: top;\n",
       "    }\n",
       "\n",
       "    .dataframe thead th {\n",
       "        text-align: right;\n",
       "    }\n",
       "</style>\n",
       "<table border=\"1\" class=\"dataframe\">\n",
       "  <thead>\n",
       "    <tr style=\"text-align: right;\">\n",
       "      <th></th>\n",
       "      <th>Unnamed: 0</th>\n",
       "      <th>Videos</th>\n",
       "    </tr>\n",
       "  </thead>\n",
       "  <tbody>\n",
       "    <tr>\n",
       "      <th>count</th>\n",
       "      <td>100.000000</td>\n",
       "      <td>100.000000</td>\n",
       "    </tr>\n",
       "    <tr>\n",
       "      <th>mean</th>\n",
       "      <td>49.500000</td>\n",
       "      <td>22385.710000</td>\n",
       "    </tr>\n",
       "    <tr>\n",
       "      <th>std</th>\n",
       "      <td>29.011492</td>\n",
       "      <td>56191.998844</td>\n",
       "    </tr>\n",
       "    <tr>\n",
       "      <th>min</th>\n",
       "      <td>0.000000</td>\n",
       "      <td>0.000000</td>\n",
       "    </tr>\n",
       "    <tr>\n",
       "      <th>25%</th>\n",
       "      <td>24.750000</td>\n",
       "      <td>523.750000</td>\n",
       "    </tr>\n",
       "    <tr>\n",
       "      <th>50%</th>\n",
       "      <td>49.500000</td>\n",
       "      <td>1467.500000</td>\n",
       "    </tr>\n",
       "    <tr>\n",
       "      <th>75%</th>\n",
       "      <td>74.250000</td>\n",
       "      <td>6549.000000</td>\n",
       "    </tr>\n",
       "    <tr>\n",
       "      <th>max</th>\n",
       "      <td>99.000000</td>\n",
       "      <td>301612.000000</td>\n",
       "    </tr>\n",
       "  </tbody>\n",
       "</table>\n",
       "</div>"
      ],
      "text/plain": [
       "       Unnamed: 0         Videos\n",
       "count  100.000000     100.000000\n",
       "mean    49.500000   22385.710000\n",
       "std     29.011492   56191.998844\n",
       "min      0.000000       0.000000\n",
       "25%     24.750000     523.750000\n",
       "50%     49.500000    1467.500000\n",
       "75%     74.250000    6549.000000\n",
       "max     99.000000  301612.000000"
      ]
     },
     "execution_count": 51,
     "metadata": {},
     "output_type": "execute_result"
    }
   ],
   "source": [
    "df.describe()"
   ]
  },
  {
   "cell_type": "markdown",
   "id": "40d23c50",
   "metadata": {},
   "source": [
    "# Data Cleaning"
   ]
  },
  {
   "cell_type": "markdown",
   "id": "4ab1fc88",
   "metadata": {},
   "source": [
    "### Dropping 'channel description' and 'username' columns"
   ]
  },
  {
   "cell_type": "code",
   "execution_count": 52,
   "id": "e3c6024b",
   "metadata": {},
   "outputs": [],
   "source": [
    "df = df.drop(['Channel Description','User Name'],axis = 1)"
   ]
  },
  {
   "cell_type": "code",
   "execution_count": 53,
   "id": "78f9f733",
   "metadata": {
    "scrolled": true
   },
   "outputs": [
    {
     "data": {
      "text/html": [
       "<div>\n",
       "<style scoped>\n",
       "    .dataframe tbody tr th:only-of-type {\n",
       "        vertical-align: middle;\n",
       "    }\n",
       "\n",
       "    .dataframe tbody tr th {\n",
       "        vertical-align: top;\n",
       "    }\n",
       "\n",
       "    .dataframe thead th {\n",
       "        text-align: right;\n",
       "    }\n",
       "</style>\n",
       "<table border=\"1\" class=\"dataframe\">\n",
       "  <thead>\n",
       "    <tr style=\"text-align: right;\">\n",
       "      <th></th>\n",
       "      <th>Unnamed: 0</th>\n",
       "      <th>Channel Name</th>\n",
       "      <th>Subscribers</th>\n",
       "      <th>Views</th>\n",
       "      <th>Videos</th>\n",
       "    </tr>\n",
       "  </thead>\n",
       "  <tbody>\n",
       "    <tr>\n",
       "      <th>0</th>\n",
       "      <td>0</td>\n",
       "      <td>T-Series</td>\n",
       "      <td>248M</td>\n",
       "      <td>232B</td>\n",
       "      <td>19430</td>\n",
       "    </tr>\n",
       "    <tr>\n",
       "      <th>1</th>\n",
       "      <td>1</td>\n",
       "      <td>MrBeast</td>\n",
       "      <td>181M</td>\n",
       "      <td>31B</td>\n",
       "      <td>747</td>\n",
       "    </tr>\n",
       "    <tr>\n",
       "      <th>2</th>\n",
       "      <td>2</td>\n",
       "      <td>YouTube Movies</td>\n",
       "      <td>173M</td>\n",
       "      <td>0</td>\n",
       "      <td>0</td>\n",
       "    </tr>\n",
       "    <tr>\n",
       "      <th>3</th>\n",
       "      <td>3</td>\n",
       "      <td>Cocomelon - Nursery Rhymes</td>\n",
       "      <td>164M</td>\n",
       "      <td>168B</td>\n",
       "      <td>1001</td>\n",
       "    </tr>\n",
       "    <tr>\n",
       "      <th>4</th>\n",
       "      <td>4</td>\n",
       "      <td>SET India</td>\n",
       "      <td>161M</td>\n",
       "      <td>151B</td>\n",
       "      <td>118126</td>\n",
       "    </tr>\n",
       "    <tr>\n",
       "      <th>...</th>\n",
       "      <td>...</td>\n",
       "      <td>...</td>\n",
       "      <td>...</td>\n",
       "      <td>...</td>\n",
       "      <td>...</td>\n",
       "    </tr>\n",
       "    <tr>\n",
       "      <th>95</th>\n",
       "      <td>95</td>\n",
       "      <td>ช่อง One31</td>\n",
       "      <td>38M</td>\n",
       "      <td>27B</td>\n",
       "      <td>119042</td>\n",
       "    </tr>\n",
       "    <tr>\n",
       "      <th>96</th>\n",
       "      <td>96</td>\n",
       "      <td>Maria Clara &amp; JP</td>\n",
       "      <td>38M</td>\n",
       "      <td>25B</td>\n",
       "      <td>753</td>\n",
       "    </tr>\n",
       "    <tr>\n",
       "      <th>97</th>\n",
       "      <td>97</td>\n",
       "      <td>Jkk Entertainment</td>\n",
       "      <td>37M</td>\n",
       "      <td>16B</td>\n",
       "      <td>222</td>\n",
       "    </tr>\n",
       "    <tr>\n",
       "      <th>98</th>\n",
       "      <td>98</td>\n",
       "      <td>ABP NEWS</td>\n",
       "      <td>37M</td>\n",
       "      <td>13B</td>\n",
       "      <td>301612</td>\n",
       "    </tr>\n",
       "    <tr>\n",
       "      <th>99</th>\n",
       "      <td>99</td>\n",
       "      <td>YouTube</td>\n",
       "      <td>37M</td>\n",
       "      <td>3B</td>\n",
       "      <td>758</td>\n",
       "    </tr>\n",
       "  </tbody>\n",
       "</table>\n",
       "<p>100 rows × 5 columns</p>\n",
       "</div>"
      ],
      "text/plain": [
       "    Unnamed: 0                Channel Name Subscribers Views  Videos\n",
       "0            0                    T-Series        248M  232B   19430\n",
       "1            1                     MrBeast        181M   31B     747\n",
       "2            2              YouTube Movies        173M     0       0\n",
       "3            3  Cocomelon - Nursery Rhymes        164M  168B    1001\n",
       "4            4                   SET India        161M  151B  118126\n",
       "..         ...                         ...         ...   ...     ...\n",
       "95          95                  ช่อง One31         38M   27B  119042\n",
       "96          96            Maria Clara & JP         38M   25B     753\n",
       "97          97           Jkk Entertainment         37M   16B     222\n",
       "98          98                    ABP NEWS         37M   13B  301612\n",
       "99          99                     YouTube         37M    3B     758\n",
       "\n",
       "[100 rows x 5 columns]"
      ]
     },
     "execution_count": 53,
     "metadata": {},
     "output_type": "execute_result"
    }
   ],
   "source": [
    "df"
   ]
  },
  {
   "cell_type": "markdown",
   "id": "6b9aeab9",
   "metadata": {},
   "source": [
    "### removing 'M' from subscribers column and 'B' from views column"
   ]
  },
  {
   "cell_type": "code",
   "execution_count": 54,
   "id": "7fde6585",
   "metadata": {},
   "outputs": [],
   "source": [
    "df = df.replace({\n",
    "    'Subscribers':'[a-zA-Z]',\n",
    "    'Views': '[a-zA-Z]'\n",
    "},'',regex = True)"
   ]
  },
  {
   "cell_type": "code",
   "execution_count": 55,
   "id": "56ffca90",
   "metadata": {},
   "outputs": [
    {
     "data": {
      "text/html": [
       "<div>\n",
       "<style scoped>\n",
       "    .dataframe tbody tr th:only-of-type {\n",
       "        vertical-align: middle;\n",
       "    }\n",
       "\n",
       "    .dataframe tbody tr th {\n",
       "        vertical-align: top;\n",
       "    }\n",
       "\n",
       "    .dataframe thead th {\n",
       "        text-align: right;\n",
       "    }\n",
       "</style>\n",
       "<table border=\"1\" class=\"dataframe\">\n",
       "  <thead>\n",
       "    <tr style=\"text-align: right;\">\n",
       "      <th></th>\n",
       "      <th>Unnamed: 0</th>\n",
       "      <th>Channel Name</th>\n",
       "      <th>Subscribers</th>\n",
       "      <th>Views</th>\n",
       "      <th>Videos</th>\n",
       "    </tr>\n",
       "  </thead>\n",
       "  <tbody>\n",
       "    <tr>\n",
       "      <th>0</th>\n",
       "      <td>0</td>\n",
       "      <td>T-Series</td>\n",
       "      <td>248</td>\n",
       "      <td>232</td>\n",
       "      <td>19430</td>\n",
       "    </tr>\n",
       "    <tr>\n",
       "      <th>1</th>\n",
       "      <td>1</td>\n",
       "      <td>MrBeast</td>\n",
       "      <td>181</td>\n",
       "      <td>31</td>\n",
       "      <td>747</td>\n",
       "    </tr>\n",
       "    <tr>\n",
       "      <th>2</th>\n",
       "      <td>2</td>\n",
       "      <td>YouTube Movies</td>\n",
       "      <td>173</td>\n",
       "      <td>0</td>\n",
       "      <td>0</td>\n",
       "    </tr>\n",
       "    <tr>\n",
       "      <th>3</th>\n",
       "      <td>3</td>\n",
       "      <td>Cocomelon - Nursery Rhymes</td>\n",
       "      <td>164</td>\n",
       "      <td>168</td>\n",
       "      <td>1001</td>\n",
       "    </tr>\n",
       "    <tr>\n",
       "      <th>4</th>\n",
       "      <td>4</td>\n",
       "      <td>SET India</td>\n",
       "      <td>161</td>\n",
       "      <td>151</td>\n",
       "      <td>118126</td>\n",
       "    </tr>\n",
       "  </tbody>\n",
       "</table>\n",
       "</div>"
      ],
      "text/plain": [
       "   Unnamed: 0                Channel Name Subscribers Views  Videos\n",
       "0           0                    T-Series         248   232   19430\n",
       "1           1                     MrBeast         181    31     747\n",
       "2           2              YouTube Movies         173     0       0\n",
       "3           3  Cocomelon - Nursery Rhymes         164   168    1001\n",
       "4           4                   SET India         161   151  118126"
      ]
     },
     "execution_count": 55,
     "metadata": {},
     "output_type": "execute_result"
    }
   ],
   "source": [
    "df.head()"
   ]
  },
  {
   "cell_type": "markdown",
   "id": "7da04525",
   "metadata": {},
   "source": [
    "### Checking for any null values in the dataset"
   ]
  },
  {
   "cell_type": "code",
   "execution_count": 56,
   "id": "8a1eda4b",
   "metadata": {
    "scrolled": true
   },
   "outputs": [
    {
     "data": {
      "text/plain": [
       "Unnamed: 0      0\n",
       "Channel Name    0\n",
       "Subscribers     0\n",
       "Views           0\n",
       "Videos          0\n",
       "dtype: int64"
      ]
     },
     "execution_count": 56,
     "metadata": {},
     "output_type": "execute_result"
    }
   ],
   "source": [
    "df.isnull().sum()"
   ]
  },
  {
   "cell_type": "markdown",
   "id": "b9502436",
   "metadata": {},
   "source": [
    "### Changing the datatype of subscribers and views columns to integer"
   ]
  },
  {
   "cell_type": "code",
   "execution_count": 57,
   "id": "fac04fc8",
   "metadata": {},
   "outputs": [],
   "source": [
    "df['Subscribers'] = df['Subscribers'].astype('int64')"
   ]
  },
  {
   "cell_type": "code",
   "execution_count": 58,
   "id": "616db60f",
   "metadata": {},
   "outputs": [],
   "source": [
    "df['Views'] = df['Views'].astype('int64')"
   ]
  },
  {
   "cell_type": "markdown",
   "id": "9543adb5",
   "metadata": {},
   "source": [
    "### Dropping unnamed column which is not useful"
   ]
  },
  {
   "cell_type": "code",
   "execution_count": 59,
   "id": "9e265767",
   "metadata": {},
   "outputs": [],
   "source": [
    "df = df.drop(['Unnamed: 0'],axis = 1)\n"
   ]
  },
  {
   "cell_type": "code",
   "execution_count": 60,
   "id": "1b0a11f4",
   "metadata": {},
   "outputs": [
    {
     "data": {
      "text/html": [
       "<div>\n",
       "<style scoped>\n",
       "    .dataframe tbody tr th:only-of-type {\n",
       "        vertical-align: middle;\n",
       "    }\n",
       "\n",
       "    .dataframe tbody tr th {\n",
       "        vertical-align: top;\n",
       "    }\n",
       "\n",
       "    .dataframe thead th {\n",
       "        text-align: right;\n",
       "    }\n",
       "</style>\n",
       "<table border=\"1\" class=\"dataframe\">\n",
       "  <thead>\n",
       "    <tr style=\"text-align: right;\">\n",
       "      <th></th>\n",
       "      <th>Channel Name</th>\n",
       "      <th>Subscribers</th>\n",
       "      <th>Views</th>\n",
       "      <th>Videos</th>\n",
       "    </tr>\n",
       "  </thead>\n",
       "  <tbody>\n",
       "    <tr>\n",
       "      <th>0</th>\n",
       "      <td>T-Series</td>\n",
       "      <td>248</td>\n",
       "      <td>232</td>\n",
       "      <td>19430</td>\n",
       "    </tr>\n",
       "    <tr>\n",
       "      <th>1</th>\n",
       "      <td>MrBeast</td>\n",
       "      <td>181</td>\n",
       "      <td>31</td>\n",
       "      <td>747</td>\n",
       "    </tr>\n",
       "    <tr>\n",
       "      <th>2</th>\n",
       "      <td>YouTube Movies</td>\n",
       "      <td>173</td>\n",
       "      <td>0</td>\n",
       "      <td>0</td>\n",
       "    </tr>\n",
       "    <tr>\n",
       "      <th>3</th>\n",
       "      <td>Cocomelon - Nursery Rhymes</td>\n",
       "      <td>164</td>\n",
       "      <td>168</td>\n",
       "      <td>1001</td>\n",
       "    </tr>\n",
       "    <tr>\n",
       "      <th>4</th>\n",
       "      <td>SET India</td>\n",
       "      <td>161</td>\n",
       "      <td>151</td>\n",
       "      <td>118126</td>\n",
       "    </tr>\n",
       "    <tr>\n",
       "      <th>...</th>\n",
       "      <td>...</td>\n",
       "      <td>...</td>\n",
       "      <td>...</td>\n",
       "      <td>...</td>\n",
       "    </tr>\n",
       "    <tr>\n",
       "      <th>95</th>\n",
       "      <td>ช่อง One31</td>\n",
       "      <td>38</td>\n",
       "      <td>27</td>\n",
       "      <td>119042</td>\n",
       "    </tr>\n",
       "    <tr>\n",
       "      <th>96</th>\n",
       "      <td>Maria Clara &amp; JP</td>\n",
       "      <td>38</td>\n",
       "      <td>25</td>\n",
       "      <td>753</td>\n",
       "    </tr>\n",
       "    <tr>\n",
       "      <th>97</th>\n",
       "      <td>Jkk Entertainment</td>\n",
       "      <td>37</td>\n",
       "      <td>16</td>\n",
       "      <td>222</td>\n",
       "    </tr>\n",
       "    <tr>\n",
       "      <th>98</th>\n",
       "      <td>ABP NEWS</td>\n",
       "      <td>37</td>\n",
       "      <td>13</td>\n",
       "      <td>301612</td>\n",
       "    </tr>\n",
       "    <tr>\n",
       "      <th>99</th>\n",
       "      <td>YouTube</td>\n",
       "      <td>37</td>\n",
       "      <td>3</td>\n",
       "      <td>758</td>\n",
       "    </tr>\n",
       "  </tbody>\n",
       "</table>\n",
       "<p>100 rows × 4 columns</p>\n",
       "</div>"
      ],
      "text/plain": [
       "                  Channel Name  Subscribers  Views  Videos\n",
       "0                     T-Series          248    232   19430\n",
       "1                      MrBeast          181     31     747\n",
       "2               YouTube Movies          173      0       0\n",
       "3   Cocomelon - Nursery Rhymes          164    168    1001\n",
       "4                    SET India          161    151  118126\n",
       "..                         ...          ...    ...     ...\n",
       "95                  ช่อง One31           38     27  119042\n",
       "96            Maria Clara & JP           38     25     753\n",
       "97           Jkk Entertainment           37     16     222\n",
       "98                    ABP NEWS           37     13  301612\n",
       "99                     YouTube           37      3     758\n",
       "\n",
       "[100 rows x 4 columns]"
      ]
     },
     "execution_count": 60,
     "metadata": {},
     "output_type": "execute_result"
    }
   ],
   "source": [
    "df"
   ]
  },
  {
   "cell_type": "markdown",
   "id": "04b6038d",
   "metadata": {},
   "source": [
    "### Count of rows which has a value of 0"
   ]
  },
  {
   "cell_type": "code",
   "execution_count": 61,
   "id": "2090c6f6",
   "metadata": {},
   "outputs": [
    {
     "data": {
      "text/plain": [
       "Channel Name    4\n",
       "Subscribers     4\n",
       "Views           4\n",
       "Videos          4\n",
       "dtype: int64"
      ]
     },
     "execution_count": 61,
     "metadata": {},
     "output_type": "execute_result"
    }
   ],
   "source": [
    "df[df['Views'] == 0].count()"
   ]
  },
  {
   "cell_type": "markdown",
   "id": "5ea79032",
   "metadata": {},
   "source": [
    "### Replacing 0 with null values"
   ]
  },
  {
   "cell_type": "code",
   "execution_count": 62,
   "id": "4bb4da98",
   "metadata": {},
   "outputs": [],
   "source": [
    "df = df.replace(0,np.NaN)"
   ]
  },
  {
   "cell_type": "code",
   "execution_count": 63,
   "id": "183f4987",
   "metadata": {
    "scrolled": true
   },
   "outputs": [
    {
     "data": {
      "text/html": [
       "<div>\n",
       "<style scoped>\n",
       "    .dataframe tbody tr th:only-of-type {\n",
       "        vertical-align: middle;\n",
       "    }\n",
       "\n",
       "    .dataframe tbody tr th {\n",
       "        vertical-align: top;\n",
       "    }\n",
       "\n",
       "    .dataframe thead th {\n",
       "        text-align: right;\n",
       "    }\n",
       "</style>\n",
       "<table border=\"1\" class=\"dataframe\">\n",
       "  <thead>\n",
       "    <tr style=\"text-align: right;\">\n",
       "      <th></th>\n",
       "      <th>Channel Name</th>\n",
       "      <th>Subscribers</th>\n",
       "      <th>Views</th>\n",
       "      <th>Videos</th>\n",
       "    </tr>\n",
       "  </thead>\n",
       "  <tbody>\n",
       "    <tr>\n",
       "      <th>0</th>\n",
       "      <td>T-Series</td>\n",
       "      <td>248</td>\n",
       "      <td>232.0</td>\n",
       "      <td>19430.0</td>\n",
       "    </tr>\n",
       "    <tr>\n",
       "      <th>1</th>\n",
       "      <td>MrBeast</td>\n",
       "      <td>181</td>\n",
       "      <td>31.0</td>\n",
       "      <td>747.0</td>\n",
       "    </tr>\n",
       "    <tr>\n",
       "      <th>2</th>\n",
       "      <td>YouTube Movies</td>\n",
       "      <td>173</td>\n",
       "      <td>NaN</td>\n",
       "      <td>NaN</td>\n",
       "    </tr>\n",
       "    <tr>\n",
       "      <th>3</th>\n",
       "      <td>Cocomelon - Nursery Rhymes</td>\n",
       "      <td>164</td>\n",
       "      <td>168.0</td>\n",
       "      <td>1001.0</td>\n",
       "    </tr>\n",
       "    <tr>\n",
       "      <th>4</th>\n",
       "      <td>SET India</td>\n",
       "      <td>161</td>\n",
       "      <td>151.0</td>\n",
       "      <td>118126.0</td>\n",
       "    </tr>\n",
       "    <tr>\n",
       "      <th>...</th>\n",
       "      <td>...</td>\n",
       "      <td>...</td>\n",
       "      <td>...</td>\n",
       "      <td>...</td>\n",
       "    </tr>\n",
       "    <tr>\n",
       "      <th>95</th>\n",
       "      <td>ช่อง One31</td>\n",
       "      <td>38</td>\n",
       "      <td>27.0</td>\n",
       "      <td>119042.0</td>\n",
       "    </tr>\n",
       "    <tr>\n",
       "      <th>96</th>\n",
       "      <td>Maria Clara &amp; JP</td>\n",
       "      <td>38</td>\n",
       "      <td>25.0</td>\n",
       "      <td>753.0</td>\n",
       "    </tr>\n",
       "    <tr>\n",
       "      <th>97</th>\n",
       "      <td>Jkk Entertainment</td>\n",
       "      <td>37</td>\n",
       "      <td>16.0</td>\n",
       "      <td>222.0</td>\n",
       "    </tr>\n",
       "    <tr>\n",
       "      <th>98</th>\n",
       "      <td>ABP NEWS</td>\n",
       "      <td>37</td>\n",
       "      <td>13.0</td>\n",
       "      <td>301612.0</td>\n",
       "    </tr>\n",
       "    <tr>\n",
       "      <th>99</th>\n",
       "      <td>YouTube</td>\n",
       "      <td>37</td>\n",
       "      <td>3.0</td>\n",
       "      <td>758.0</td>\n",
       "    </tr>\n",
       "  </tbody>\n",
       "</table>\n",
       "<p>100 rows × 4 columns</p>\n",
       "</div>"
      ],
      "text/plain": [
       "                  Channel Name  Subscribers  Views    Videos\n",
       "0                     T-Series          248  232.0   19430.0\n",
       "1                      MrBeast          181   31.0     747.0\n",
       "2               YouTube Movies          173    NaN       NaN\n",
       "3   Cocomelon - Nursery Rhymes          164  168.0    1001.0\n",
       "4                    SET India          161  151.0  118126.0\n",
       "..                         ...          ...    ...       ...\n",
       "95                  ช่อง One31           38   27.0  119042.0\n",
       "96            Maria Clara & JP           38   25.0     753.0\n",
       "97           Jkk Entertainment           37   16.0     222.0\n",
       "98                    ABP NEWS           37   13.0  301612.0\n",
       "99                     YouTube           37    3.0     758.0\n",
       "\n",
       "[100 rows x 4 columns]"
      ]
     },
     "execution_count": 63,
     "metadata": {},
     "output_type": "execute_result"
    }
   ],
   "source": [
    "df"
   ]
  },
  {
   "cell_type": "markdown",
   "id": "f988b0e7",
   "metadata": {},
   "source": [
    "### filling the null values with previous values"
   ]
  },
  {
   "cell_type": "code",
   "execution_count": 64,
   "id": "b346bcf7",
   "metadata": {},
   "outputs": [],
   "source": [
    "df = df.fillna(method = 'ffill',limit = 1)"
   ]
  },
  {
   "cell_type": "code",
   "execution_count": 65,
   "id": "d76f3eb5",
   "metadata": {},
   "outputs": [],
   "source": [
    "df.rename(columns = {\n",
    "    'Subscribers':'Subscribers(in Million)',\n",
    "    'Views' : 'Views(in Billion)'\n",
    "},inplace = True)"
   ]
  },
  {
   "cell_type": "code",
   "execution_count": 66,
   "id": "833f56ed",
   "metadata": {},
   "outputs": [
    {
     "data": {
      "text/html": [
       "<div>\n",
       "<style scoped>\n",
       "    .dataframe tbody tr th:only-of-type {\n",
       "        vertical-align: middle;\n",
       "    }\n",
       "\n",
       "    .dataframe tbody tr th {\n",
       "        vertical-align: top;\n",
       "    }\n",
       "\n",
       "    .dataframe thead th {\n",
       "        text-align: right;\n",
       "    }\n",
       "</style>\n",
       "<table border=\"1\" class=\"dataframe\">\n",
       "  <thead>\n",
       "    <tr style=\"text-align: right;\">\n",
       "      <th></th>\n",
       "      <th>Channel Name</th>\n",
       "      <th>Subscribers(in Million)</th>\n",
       "      <th>Views(in Billion)</th>\n",
       "      <th>Videos</th>\n",
       "    </tr>\n",
       "  </thead>\n",
       "  <tbody>\n",
       "    <tr>\n",
       "      <th>0</th>\n",
       "      <td>T-Series</td>\n",
       "      <td>248</td>\n",
       "      <td>232.0</td>\n",
       "      <td>19430.0</td>\n",
       "    </tr>\n",
       "    <tr>\n",
       "      <th>1</th>\n",
       "      <td>MrBeast</td>\n",
       "      <td>181</td>\n",
       "      <td>31.0</td>\n",
       "      <td>747.0</td>\n",
       "    </tr>\n",
       "    <tr>\n",
       "      <th>2</th>\n",
       "      <td>YouTube Movies</td>\n",
       "      <td>173</td>\n",
       "      <td>31.0</td>\n",
       "      <td>747.0</td>\n",
       "    </tr>\n",
       "    <tr>\n",
       "      <th>3</th>\n",
       "      <td>Cocomelon - Nursery Rhymes</td>\n",
       "      <td>164</td>\n",
       "      <td>168.0</td>\n",
       "      <td>1001.0</td>\n",
       "    </tr>\n",
       "    <tr>\n",
       "      <th>4</th>\n",
       "      <td>SET India</td>\n",
       "      <td>161</td>\n",
       "      <td>151.0</td>\n",
       "      <td>118126.0</td>\n",
       "    </tr>\n",
       "    <tr>\n",
       "      <th>...</th>\n",
       "      <td>...</td>\n",
       "      <td>...</td>\n",
       "      <td>...</td>\n",
       "      <td>...</td>\n",
       "    </tr>\n",
       "    <tr>\n",
       "      <th>95</th>\n",
       "      <td>ช่อง One31</td>\n",
       "      <td>38</td>\n",
       "      <td>27.0</td>\n",
       "      <td>119042.0</td>\n",
       "    </tr>\n",
       "    <tr>\n",
       "      <th>96</th>\n",
       "      <td>Maria Clara &amp; JP</td>\n",
       "      <td>38</td>\n",
       "      <td>25.0</td>\n",
       "      <td>753.0</td>\n",
       "    </tr>\n",
       "    <tr>\n",
       "      <th>97</th>\n",
       "      <td>Jkk Entertainment</td>\n",
       "      <td>37</td>\n",
       "      <td>16.0</td>\n",
       "      <td>222.0</td>\n",
       "    </tr>\n",
       "    <tr>\n",
       "      <th>98</th>\n",
       "      <td>ABP NEWS</td>\n",
       "      <td>37</td>\n",
       "      <td>13.0</td>\n",
       "      <td>301612.0</td>\n",
       "    </tr>\n",
       "    <tr>\n",
       "      <th>99</th>\n",
       "      <td>YouTube</td>\n",
       "      <td>37</td>\n",
       "      <td>3.0</td>\n",
       "      <td>758.0</td>\n",
       "    </tr>\n",
       "  </tbody>\n",
       "</table>\n",
       "<p>100 rows × 4 columns</p>\n",
       "</div>"
      ],
      "text/plain": [
       "                  Channel Name  Subscribers(in Million)  Views(in Billion)  \\\n",
       "0                     T-Series                      248              232.0   \n",
       "1                      MrBeast                      181               31.0   \n",
       "2               YouTube Movies                      173               31.0   \n",
       "3   Cocomelon - Nursery Rhymes                      164              168.0   \n",
       "4                    SET India                      161              151.0   \n",
       "..                         ...                      ...                ...   \n",
       "95                  ช่อง One31                       38               27.0   \n",
       "96            Maria Clara & JP                       38               25.0   \n",
       "97           Jkk Entertainment                       37               16.0   \n",
       "98                    ABP NEWS                       37               13.0   \n",
       "99                     YouTube                       37                3.0   \n",
       "\n",
       "      Videos  \n",
       "0    19430.0  \n",
       "1      747.0  \n",
       "2      747.0  \n",
       "3     1001.0  \n",
       "4   118126.0  \n",
       "..       ...  \n",
       "95  119042.0  \n",
       "96     753.0  \n",
       "97     222.0  \n",
       "98  301612.0  \n",
       "99     758.0  \n",
       "\n",
       "[100 rows x 4 columns]"
      ]
     },
     "execution_count": 66,
     "metadata": {},
     "output_type": "execute_result"
    }
   ],
   "source": [
    "df"
   ]
  },
  {
   "cell_type": "markdown",
   "id": "bf2ecb0a",
   "metadata": {},
   "source": [
    "# Data Analysis"
   ]
  },
  {
   "cell_type": "markdown",
   "id": "8d058fa4",
   "metadata": {},
   "source": [
    "### Which channel has the highest number of youtubers?"
   ]
  },
  {
   "cell_type": "code",
   "execution_count": 67,
   "id": "66d00765",
   "metadata": {},
   "outputs": [
    {
     "data": {
      "text/plain": [
       "0    T-Series\n",
       "Name: Channel Name, dtype: object"
      ]
     },
     "execution_count": 67,
     "metadata": {},
     "output_type": "execute_result"
    }
   ],
   "source": [
    "df['Channel Name'][df['Subscribers(in Million)'] == max(df['Subscribers(in Million)'])]"
   ]
  },
  {
   "cell_type": "markdown",
   "id": "44970963",
   "metadata": {},
   "source": [
    "### Which channel has the highest number of views?"
   ]
  },
  {
   "cell_type": "code",
   "execution_count": 68,
   "id": "a63f51ba",
   "metadata": {},
   "outputs": [
    {
     "data": {
      "text/plain": [
       "0    T-Series\n",
       "Name: Channel Name, dtype: object"
      ]
     },
     "execution_count": 68,
     "metadata": {},
     "output_type": "execute_result"
    }
   ],
   "source": [
    "df['Channel Name'][df['Views(in Billion)'] == max(df['Views(in Billion)'])]"
   ]
  },
  {
   "cell_type": "markdown",
   "id": "1f0e87de",
   "metadata": {},
   "source": [
    "### What is the average views of all the channels"
   ]
  },
  {
   "cell_type": "code",
   "execution_count": 69,
   "id": "90d04bbf",
   "metadata": {},
   "outputs": [
    {
     "data": {
      "text/plain": [
       "35.74"
      ]
     },
     "execution_count": 69,
     "metadata": {},
     "output_type": "execute_result"
    }
   ],
   "source": [
    "df['Views(in Billion)'].mean()"
   ]
  },
  {
   "cell_type": "markdown",
   "id": "4edca2d6",
   "metadata": {},
   "source": [
    "### What is the average number of subscribers for the top 100 channels in 2023?"
   ]
  },
  {
   "cell_type": "code",
   "execution_count": 70,
   "id": "b8aa90ea",
   "metadata": {},
   "outputs": [
    {
     "data": {
      "text/plain": [
       "61.39"
      ]
     },
     "execution_count": 70,
     "metadata": {},
     "output_type": "execute_result"
    }
   ],
   "source": [
    "df['Subscribers(in Million)'].mean()"
   ]
  },
  {
   "cell_type": "markdown",
   "id": "4f061654",
   "metadata": {},
   "source": [
    "### Finding relation between subscribers and number of videos"
   ]
  },
  {
   "cell_type": "code",
   "execution_count": 71,
   "id": "6310fafc",
   "metadata": {},
   "outputs": [
    {
     "data": {
      "text/plain": [
       "0.02770805329057868"
      ]
     },
     "execution_count": 71,
     "metadata": {},
     "output_type": "execute_result"
    }
   ],
   "source": [
    "df['Subscribers(in Million)'].corr(df['Videos'])"
   ]
  },
  {
   "cell_type": "markdown",
   "id": "ce9a04e6",
   "metadata": {},
   "source": [
    "### By plotting Scatter plot ,"
   ]
  },
  {
   "cell_type": "code",
   "execution_count": 72,
   "id": "0b695e62",
   "metadata": {},
   "outputs": [
    {
     "data": {
      "text/plain": [
       "Text(0.5, 1.0, 'Subscribers count vs Number of Videos')"
      ]
     },
     "execution_count": 72,
     "metadata": {},
     "output_type": "execute_result"
    },
    {
     "data": {
      "image/png": "[encoded data removed]",
      "text/plain": [
       "<Figure size 432x288 with 1 Axes>"
      ]
     },
     "metadata": {
      "needs_background": "light"
     },
     "output_type": "display_data"
    }
   ],
   "source": [
    "plt.scatter(df['Subscribers(in Million)'],df['Videos'],color = 'green')\n",
    "plt.xlabel('Subscribers(in Million)',size = 'large')\n",
    "plt.ylabel('number of Videos uploaded',size = 'large')\n",
    "plt.title('Subscribers count vs Number of Videos',size = 'large')"
   ]
  },
  {
   "cell_type": "markdown",
   "id": "cc8a6ffe",
   "metadata": {},
   "source": [
    "### In scatter plot,plots does not fit in a straight line.they are not strongly correlated to each other"
   ]
  },
  {
   "cell_type": "markdown",
   "id": "76a6752e",
   "metadata": {},
   "source": [
    "### Splitting the data by number of subscribers ranges from 0 to 50M,50M to 100M and so on.. "
   ]
  },
  {
   "cell_type": "code",
   "execution_count": 73,
   "id": "080e0d0a",
   "metadata": {},
   "outputs": [],
   "source": [
    "subscribers_range = pd.IntervalIndex.from_tuples([(0, 50), (50, 100), (100, 150),(150,200),(200,250)])"
   ]
  },
  {
   "cell_type": "code",
   "execution_count": 74,
   "id": "27e16c2d",
   "metadata": {},
   "outputs": [],
   "source": [
    "df['subscribers_range'] = pd.cut(df['Subscribers(in Million)'], bins=subscribers_range)\n"
   ]
  },
  {
   "cell_type": "code",
   "execution_count": 75,
   "id": "ca1d2dc6",
   "metadata": {},
   "outputs": [
    {
     "data": {
      "text/html": [
       "<div>\n",
       "<style scoped>\n",
       "    .dataframe tbody tr th:only-of-type {\n",
       "        vertical-align: middle;\n",
       "    }\n",
       "\n",
       "    .dataframe tbody tr th {\n",
       "        vertical-align: top;\n",
       "    }\n",
       "\n",
       "    .dataframe thead th {\n",
       "        text-align: right;\n",
       "    }\n",
       "</style>\n",
       "<table border=\"1\" class=\"dataframe\">\n",
       "  <thead>\n",
       "    <tr style=\"text-align: right;\">\n",
       "      <th></th>\n",
       "      <th>Channel Name</th>\n",
       "      <th>Subscribers(in Million)</th>\n",
       "      <th>Views(in Billion)</th>\n",
       "      <th>Videos</th>\n",
       "      <th>subscribers_range</th>\n",
       "    </tr>\n",
       "  </thead>\n",
       "  <tbody>\n",
       "    <tr>\n",
       "      <th>0</th>\n",
       "      <td>T-Series</td>\n",
       "      <td>248</td>\n",
       "      <td>232.0</td>\n",
       "      <td>19430.0</td>\n",
       "      <td>(200, 250]</td>\n",
       "    </tr>\n",
       "    <tr>\n",
       "      <th>1</th>\n",
       "      <td>MrBeast</td>\n",
       "      <td>181</td>\n",
       "      <td>31.0</td>\n",
       "      <td>747.0</td>\n",
       "      <td>(150, 200]</td>\n",
       "    </tr>\n",
       "    <tr>\n",
       "      <th>2</th>\n",
       "      <td>YouTube Movies</td>\n",
       "      <td>173</td>\n",
       "      <td>31.0</td>\n",
       "      <td>747.0</td>\n",
       "      <td>(150, 200]</td>\n",
       "    </tr>\n",
       "    <tr>\n",
       "      <th>3</th>\n",
       "      <td>Cocomelon - Nursery Rhymes</td>\n",
       "      <td>164</td>\n",
       "      <td>168.0</td>\n",
       "      <td>1001.0</td>\n",
       "      <td>(150, 200]</td>\n",
       "    </tr>\n",
       "    <tr>\n",
       "      <th>4</th>\n",
       "      <td>SET India</td>\n",
       "      <td>161</td>\n",
       "      <td>151.0</td>\n",
       "      <td>118126.0</td>\n",
       "      <td>(150, 200]</td>\n",
       "    </tr>\n",
       "    <tr>\n",
       "      <th>...</th>\n",
       "      <td>...</td>\n",
       "      <td>...</td>\n",
       "      <td>...</td>\n",
       "      <td>...</td>\n",
       "      <td>...</td>\n",
       "    </tr>\n",
       "    <tr>\n",
       "      <th>95</th>\n",
       "      <td>ช่อง One31</td>\n",
       "      <td>38</td>\n",
       "      <td>27.0</td>\n",
       "      <td>119042.0</td>\n",
       "      <td>(0, 50]</td>\n",
       "    </tr>\n",
       "    <tr>\n",
       "      <th>96</th>\n",
       "      <td>Maria Clara &amp; JP</td>\n",
       "      <td>38</td>\n",
       "      <td>25.0</td>\n",
       "      <td>753.0</td>\n",
       "      <td>(0, 50]</td>\n",
       "    </tr>\n",
       "    <tr>\n",
       "      <th>97</th>\n",
       "      <td>Jkk Entertainment</td>\n",
       "      <td>37</td>\n",
       "      <td>16.0</td>\n",
       "      <td>222.0</td>\n",
       "      <td>(0, 50]</td>\n",
       "    </tr>\n",
       "    <tr>\n",
       "      <th>98</th>\n",
       "      <td>ABP NEWS</td>\n",
       "      <td>37</td>\n",
       "      <td>13.0</td>\n",
       "      <td>301612.0</td>\n",
       "      <td>(0, 50]</td>\n",
       "    </tr>\n",
       "    <tr>\n",
       "      <th>99</th>\n",
       "      <td>YouTube</td>\n",
       "      <td>37</td>\n",
       "      <td>3.0</td>\n",
       "      <td>758.0</td>\n",
       "      <td>(0, 50]</td>\n",
       "    </tr>\n",
       "  </tbody>\n",
       "</table>\n",
       "<p>100 rows × 5 columns</p>\n",
       "</div>"
      ],
      "text/plain": [
       "                  Channel Name  Subscribers(in Million)  Views(in Billion)  \\\n",
       "0                     T-Series                      248              232.0   \n",
       "1                      MrBeast                      181               31.0   \n",
       "2               YouTube Movies                      173               31.0   \n",
       "3   Cocomelon - Nursery Rhymes                      164              168.0   \n",
       "4                    SET India                      161              151.0   \n",
       "..                         ...                      ...                ...   \n",
       "95                  ช่อง One31                       38               27.0   \n",
       "96            Maria Clara & JP                       38               25.0   \n",
       "97           Jkk Entertainment                       37               16.0   \n",
       "98                    ABP NEWS                       37               13.0   \n",
       "99                     YouTube                       37                3.0   \n",
       "\n",
       "      Videos subscribers_range  \n",
       "0    19430.0        (200, 250]  \n",
       "1      747.0        (150, 200]  \n",
       "2      747.0        (150, 200]  \n",
       "3     1001.0        (150, 200]  \n",
       "4   118126.0        (150, 200]  \n",
       "..       ...               ...  \n",
       "95  119042.0           (0, 50]  \n",
       "96     753.0           (0, 50]  \n",
       "97     222.0           (0, 50]  \n",
       "98  301612.0           (0, 50]  \n",
       "99     758.0           (0, 50]  \n",
       "\n",
       "[100 rows x 5 columns]"
      ]
     },
     "execution_count": 75,
     "metadata": {},
     "output_type": "execute_result"
    }
   ],
   "source": [
    "df"
   ]
  },
  {
   "cell_type": "markdown",
   "id": "7b132ee4",
   "metadata": {},
   "source": [
    "### Grouping the data by subscribers_range"
   ]
  },
  {
   "cell_type": "code",
   "execution_count": 32,
   "id": "2e0a53ab",
   "metadata": {},
   "outputs": [],
   "source": [
    "grouped = df.groupby('subscribers_range')"
   ]
  },
  {
   "cell_type": "markdown",
   "id": "e10c83e2",
   "metadata": {},
   "source": [
    "### Printing the grouped data"
   ]
  },
  {
   "cell_type": "code",
   "execution_count": 33,
   "id": "e96ed345",
   "metadata": {},
   "outputs": [
    {
     "name": "stdout",
     "output_type": "stream",
     "text": [
      "(0, 50]\n",
      "                                     Channel Name  Subscribers(in Million)  \\\n",
      "44                                  Billie Eilish                       48   \n",
      "45                                    JuegaGerman                       48   \n",
      "46                                       Shemaroo                       48   \n",
      "47                                     Get Movies                       48   \n",
      "48                             SonyMusicIndiaVEVO                       47   \n",
      "49                                             A4                       47   \n",
      "50                                        Badabun                       47   \n",
      "51                                      Bad Bunny                       46   \n",
      "52                                     Fernanfloo                       46   \n",
      "53                                    HAR PAL GEO                       46   \n",
      "54                                      Voot Kids                       46   \n",
      "55                                    Felipe Neto                       45   \n",
      "56                                 ARY Digital HD                       45   \n",
      "57                                    Você Sabia?                       45   \n",
      "58                          ABS-CBN Entertainment                       45   \n",
      "59                                    BRIGHT SIDE                       45   \n",
      "60                                     Katy Perry                       44   \n",
      "61                               Whinderssonnunes                       44   \n",
      "62                                        Shakira                       44   \n",
      "63                                 Маша и Медведь                       44   \n",
      "64                                    Alan Walker                       44   \n",
      "65                                 HolaSoyGerman.                       44   \n",
      "66                             Masha And The Bear                       43   \n",
      "67                                  Speed Records                       43   \n",
      "68                               Like Nastya Show                       43   \n",
      "69                                      Mikecrack                       42   \n",
      "70                                        Rihanna                       42   \n",
      "71                                Toys And Colors                       42   \n",
      "72                                   Ishtar Music                       42   \n",
      "73                                Kimberly Loaiza                       42   \n",
      "74  Little Baby Bum - Nursery Rhymes & Kids Songs                       41   \n",
      "75                               Luisito Comunica                       41   \n",
      "76                                    Shfa2 - شفا                       40   \n",
      "77                                    ElrubiusOMG                       40   \n",
      "78                                    CarryMinati                       40   \n",
      "79                      LUCCAS NETO - LUCCAS TOON                       40   \n",
      "80                Super Simple Songs - Kids Songs                       40   \n",
      "81                                   XXXTENTACION                       39   \n",
      "82                              WorkpointOfficial                       39   \n",
      "83                                       Sony PAL                       39   \n",
      "84                                    GR6 EXPLODE                       39   \n",
      "85                    Goldmines Gaane Sune Ansune                       39   \n",
      "86                                     TEDx Talks                       39   \n",
      "87                                  Jess No Limit                       39   \n",
      "88                                           Shfa                       39   \n",
      "89                                   Vlad Và Niki                       38   \n",
      "90                                  One Direction                       38   \n",
      "91                                   Daddy Yankee                       38   \n",
      "92                                   TheEllenShow                       38   \n",
      "93                                 MrBeast Gaming                       38   \n",
      "94                                Like Nastya ESP                       38   \n",
      "95                                     ช่อง One31                       38   \n",
      "96                               Maria Clara & JP                       38   \n",
      "97                              Jkk Entertainment                       37   \n",
      "98                                       ABP NEWS                       37   \n",
      "99                                        YouTube                       37   \n",
      "\n",
      "    Views(in Billion)    Videos subscribers_range  \n",
      "44               14.0      76.0           (0, 50]  \n",
      "45               15.0    2063.0           (0, 50]  \n",
      "46               23.0   11528.0           (0, 50]  \n",
      "47               31.0    3362.0           (0, 50]  \n",
      "48               28.0    3481.0           (0, 50]  \n",
      "49               24.0     790.0           (0, 50]  \n",
      "50               19.0   18759.0           (0, 50]  \n",
      "51               31.0     130.0           (0, 50]  \n",
      "52               10.0     543.0           (0, 50]  \n",
      "53               43.0  104688.0           (0, 50]  \n",
      "54               22.0    4782.0           (0, 50]  \n",
      "55               17.0    4376.0           (0, 50]  \n",
      "56               40.0  114288.0           (0, 50]  \n",
      "57                8.0    1592.0           (0, 50]  \n",
      "58               51.0  196562.0           (0, 50]  \n",
      "59               11.0    6430.0           (0, 50]  \n",
      "60               26.0     131.0           (0, 50]  \n",
      "61                4.0     565.0           (0, 50]  \n",
      "62               28.0     329.0           (0, 50]  \n",
      "63               37.0    1525.0           (0, 50]  \n",
      "64               13.0     438.0           (0, 50]  \n",
      "65                5.0     136.0           (0, 50]  \n",
      "66               25.0    1258.0           (0, 50]  \n",
      "67               27.0   11003.0           (0, 50]  \n",
      "68               20.0     630.0           (0, 50]  \n",
      "69               17.0    1912.0           (0, 50]  \n",
      "70               23.0      84.0           (0, 50]  \n",
      "71               49.0    1036.0           (0, 50]  \n",
      "72               18.0    4525.0           (0, 50]  \n",
      "73                6.0     293.0           (0, 50]  \n",
      "74               40.0    2448.0           (0, 50]  \n",
      "75                9.0    1282.0           (0, 50]  \n",
      "76               24.0    1620.0           (0, 50]  \n",
      "77                7.0     703.0           (0, 50]  \n",
      "78                3.0     188.0           (0, 50]  \n",
      "79               23.0    2355.0           (0, 50]  \n",
      "80               46.0     760.0           (0, 50]  \n",
      "81               11.0     133.0           (0, 50]  \n",
      "82               36.0   74164.0           (0, 50]  \n",
      "83               29.0   24506.0           (0, 50]  \n",
      "84               25.0    3061.0           (0, 50]  \n",
      "85               17.0    3581.0           (0, 50]  \n",
      "86                7.0  202628.0           (0, 50]  \n",
      "87                5.0    2429.0           (0, 50]  \n",
      "88               22.0    1017.0           (0, 50]  \n",
      "89               24.0     528.0           (0, 50]  \n",
      "90               14.0     157.0           (0, 50]  \n",
      "91               23.0     511.0           (0, 50]  \n",
      "92               23.0   15734.0           (0, 50]  \n",
      "93                7.0     141.0           (0, 50]  \n",
      "94               19.0     756.0           (0, 50]  \n",
      "95               27.0  119042.0           (0, 50]  \n",
      "96               25.0     753.0           (0, 50]  \n",
      "97               16.0     222.0           (0, 50]  \n",
      "98               13.0  301612.0           (0, 50]  \n",
      "99                3.0     758.0           (0, 50]  \n",
      "(50, 100]\n",
      "                                         Channel Name  \\\n",
      "9                                       Vlad And Niki   \n",
      "10                                  Zee Music Company   \n",
      "11                                                WWE   \n",
      "12                                             Gaming   \n",
      "13                                          BLACKPINK   \n",
      "14                                          Goldmines   \n",
      "15                                           Sony SAB   \n",
      "16                                    5-Minute Crafts   \n",
      "17                                          BANGTANTV   \n",
      "18                                             Sports   \n",
      "19                                        HYBE LABELS   \n",
      "20                                             Zee TV   \n",
      "21                                      Justin Bieber   \n",
      "22        Pinkfong Baby Shark - Kids' Songs & Stories   \n",
      "23              ChuChu TV Nursery Rhymes & Kids Songs   \n",
      "24                                    Canal KondZilla   \n",
      "25                               Shemaroo Filmi Gaane   \n",
      "26                                          Colors TV   \n",
      "27                              T-Series Bhakti Sagar   \n",
      "28                                      Tips Official   \n",
      "29                                         Movieclips   \n",
      "30                                       Dude Perfect   \n",
      "31                                  El Reino Infantil   \n",
      "32                                            Aaj Tak   \n",
      "33                                         Wave Music   \n",
      "34                                   Sony Music India   \n",
      "35                                        EminemMusic   \n",
      "36                                         Marshmello   \n",
      "37                                                YRF   \n",
      "38                                  Infobells - Hindi   \n",
      "39  LooLoo Kids - Nursery Rhymes And Children's Songs   \n",
      "40                                       Taylor Swift   \n",
      "41                                         Ed Sheeran   \n",
      "42                                      Ariana Grande   \n",
      "43   BillionSurpriseToys  - Nursery Rhymes & Cartoons   \n",
      "\n",
      "    Subscribers(in Million)  Views(in Billion)    Videos subscribers_range  \n",
      "9                       100               78.0     589.0         (50, 100]  \n",
      "10                       99               60.0    8859.0         (50, 100]  \n",
      "11                       97               79.0   71109.0         (50, 100]  \n",
      "12                       94               79.0   71109.0         (50, 100]  \n",
      "13                       91               33.0     564.0         (50, 100]  \n",
      "14                       89               25.0    6672.0         (50, 100]  \n",
      "15                       85              103.0   72717.0         (50, 100]  \n",
      "16                       80               26.0    6508.0         (50, 100]  \n",
      "17                       76               21.0    2321.0         (50, 100]  \n",
      "18                       75               21.0    2321.0         (50, 100]  \n",
      "19                       73               30.0    1413.0         (50, 100]  \n",
      "20                       72               76.0  133541.0         (50, 100]  \n",
      "21                       72               31.0     249.0         (50, 100]  \n",
      "22                       69               40.0    2935.0         (50, 100]  \n",
      "23                       67               47.0     665.0         (50, 100]  \n",
      "24                       67               37.0    2627.0         (50, 100]  \n",
      "25                       66               29.0    8615.0         (50, 100]  \n",
      "26                       66               63.0  115085.0         (50, 100]  \n",
      "27                       62               30.0   26245.0         (50, 100]  \n",
      "28                       60               34.0    4777.0         (50, 100]  \n",
      "29                       60               60.0   39319.0         (50, 100]  \n",
      "30                       60               16.0     394.0         (50, 100]  \n",
      "31                       59               58.0    1522.0         (50, 100]  \n",
      "32                       59               26.0  296625.0         (50, 100]  \n",
      "33                       59               41.0   19573.0         (50, 100]  \n",
      "34                       58               29.0    3988.0         (50, 100]  \n",
      "35                       57               27.0     156.0         (50, 100]  \n",
      "36                       57               15.0     443.0         (50, 100]  \n",
      "37                       55               36.0    3746.0         (50, 100]  \n",
      "38                       55               32.0     590.0         (50, 100]  \n",
      "39                       55               33.0     715.0         (50, 100]  \n",
      "40                       54               31.0     218.0         (50, 100]  \n",
      "41                       54               31.0     396.0         (50, 100]  \n",
      "42                       53               24.0     154.0         (50, 100]  \n",
      "43                       53               10.0     874.0         (50, 100]  \n",
      "(100, 150]\n",
      "        Channel Name  Subscribers(in Million)  Views(in Billion)    Videos  \\\n",
      "5              Music                      119              151.0  118126.0   \n",
      "6  ✿ Kids Diana Show                      113               95.0    1119.0   \n",
      "7          PewDiePie                      111               29.0    4718.0   \n",
      "8        Like Nastya                      107               92.0     822.0   \n",
      "\n",
      "  subscribers_range  \n",
      "5        (100, 150]  \n",
      "6        (100, 150]  \n",
      "7        (100, 150]  \n",
      "8        (100, 150]  \n",
      "(150, 200]\n",
      "                 Channel Name  Subscribers(in Million)  Views(in Billion)  \\\n",
      "1                     MrBeast                      181               31.0   \n",
      "2              YouTube Movies                      173               31.0   \n",
      "3  Cocomelon - Nursery Rhymes                      164              168.0   \n",
      "4                   SET India                      161              151.0   \n",
      "\n",
      "     Videos subscribers_range  \n",
      "1     747.0        (150, 200]  \n",
      "2     747.0        (150, 200]  \n",
      "3    1001.0        (150, 200]  \n",
      "4  118126.0        (150, 200]  \n",
      "(200, 250]\n",
      "  Channel Name  Subscribers(in Million)  Views(in Billion)   Videos  \\\n",
      "0     T-Series                      248              232.0  19430.0   \n",
      "\n",
      "  subscribers_range  \n",
      "0        (200, 250]  \n"
     ]
    }
   ],
   "source": [
    "for gname,df in grouped:\n",
    "    print(gname)\n",
    "    print(df)"
   ]
  },
  {
   "cell_type": "markdown",
   "id": "b7dbb79b",
   "metadata": {},
   "source": [
    "### Describing sum of Subscribers,Views and Videos by Subscribers Range"
   ]
  },
  {
   "cell_type": "code",
   "execution_count": 34,
   "id": "425105c1",
   "metadata": {},
   "outputs": [
    {
     "data": {
      "text/html": [
       "<div>\n",
       "<style scoped>\n",
       "    .dataframe tbody tr th:only-of-type {\n",
       "        vertical-align: middle;\n",
       "    }\n",
       "\n",
       "    .dataframe tbody tr th {\n",
       "        vertical-align: top;\n",
       "    }\n",
       "\n",
       "    .dataframe thead th {\n",
       "        text-align: right;\n",
       "    }\n",
       "</style>\n",
       "<table border=\"1\" class=\"dataframe\">\n",
       "  <thead>\n",
       "    <tr style=\"text-align: right;\">\n",
       "      <th></th>\n",
       "      <th>Subscribers(in Million)</th>\n",
       "      <th>Views(in Billion)</th>\n",
       "      <th>Videos</th>\n",
       "    </tr>\n",
       "    <tr>\n",
       "      <th>subscribers_range</th>\n",
       "      <th></th>\n",
       "      <th></th>\n",
       "      <th></th>\n",
       "    </tr>\n",
       "  </thead>\n",
       "  <tbody>\n",
       "    <tr>\n",
       "      <th>(0, 50]</th>\n",
       "      <td>2354</td>\n",
       "      <td>1183.0</td>\n",
       "      <td>1258404.0</td>\n",
       "    </tr>\n",
       "    <tr>\n",
       "      <th>(50, 100]</th>\n",
       "      <td>2408</td>\n",
       "      <td>1411.0</td>\n",
       "      <td>907634.0</td>\n",
       "    </tr>\n",
       "    <tr>\n",
       "      <th>(100, 150]</th>\n",
       "      <td>450</td>\n",
       "      <td>367.0</td>\n",
       "      <td>124785.0</td>\n",
       "    </tr>\n",
       "    <tr>\n",
       "      <th>(150, 200]</th>\n",
       "      <td>679</td>\n",
       "      <td>381.0</td>\n",
       "      <td>120621.0</td>\n",
       "    </tr>\n",
       "    <tr>\n",
       "      <th>(200, 250]</th>\n",
       "      <td>248</td>\n",
       "      <td>232.0</td>\n",
       "      <td>19430.0</td>\n",
       "    </tr>\n",
       "  </tbody>\n",
       "</table>\n",
       "</div>"
      ],
      "text/plain": [
       "                   Subscribers(in Million)  Views(in Billion)     Videos\n",
       "subscribers_range                                                       \n",
       "(0, 50]                               2354             1183.0  1258404.0\n",
       "(50, 100]                             2408             1411.0   907634.0\n",
       "(100, 150]                             450              367.0   124785.0\n",
       "(150, 200]                             679              381.0   120621.0\n",
       "(200, 250]                             248              232.0    19430.0"
      ]
     },
     "execution_count": 34,
     "metadata": {},
     "output_type": "execute_result"
    }
   ],
   "source": [
    "grouped.sum()"
   ]
  },
  {
   "cell_type": "markdown",
   "id": "6a6d0e85",
   "metadata": {},
   "source": [
    "### Bar Graph for Subscribers range,views and Videos uploaded"
   ]
  },
  {
   "cell_type": "code",
   "execution_count": 35,
   "id": "40c4df53",
   "metadata": {
    "scrolled": true
   },
   "outputs": [
    {
     "data": {
      "text/plain": [
       "<BarContainer object of 5 artists>"
      ]
     },
     "execution_count": 35,
     "metadata": {},
     "output_type": "execute_result"
    },
    {
     "data": {
      "image/png": "[encoded data removed]",
      "text/plain": [
       "<Figure size 432x288 with 1 Axes>"
      ]
     },
     "metadata": {
      "needs_background": "light"
     },
     "output_type": "display_data"
    }
   ],
   "source": [
    "l = ['0-50','50-100','100-150','150-200','200-250']\n",
    "v = [1183,1411,367,381,232]\n",
    "plt.title('Subscribers Range VS Views')\n",
    "plt.xlabel('Subscribers Range(in Millions)')\n",
    "plt.ylabel('Views(in Billions)')\n",
    "plt.bar(l,v)"
   ]
  },
  {
   "cell_type": "code",
   "execution_count": 36,
   "id": "ac5f5fe2",
   "metadata": {},
   "outputs": [
    {
     "data": {
      "text/plain": [
       "<BarContainer object of 5 artists>"
      ]
     },
     "execution_count": 36,
     "metadata": {},
     "output_type": "execute_result"
    },
    {
     "data": {
      "image/png": "[encoded data removed]",
      "text/plain": [
       "<Figure size 432x288 with 1 Axes>"
      ]
     },
     "metadata": {
      "needs_background": "light"
     },
     "output_type": "display_data"
    }
   ],
   "source": [
    "l = ['0-50','50-100','100-150','150-200','200-250']\n",
    "v = [1258404,907634,124785,120621,19430]\n",
    "plt.title('Subscribers Range VS Videos uploaded')\n",
    "plt.xlabel('Subscribers Range(in Millions)')\n",
    "plt.ylabel('Number of Videos uploaded')\n",
    "plt.bar(l,v)"
   ]
  },
  {
   "cell_type": "markdown",
   "id": "0546f74f",
   "metadata": {},
   "source": [
    "## We can conclude that channels which has a subscribers in the range of 0 to 50M have higher range of views and top channel of 2023 is T-Series"
   ]
  },
  {
   "cell_type": "code",
   "execution_count": 37,
   "id": "aad42ced",
   "metadata": {},
   "outputs": [],
   "source": [
    "import os"
   ]
  },
  {
   "cell_type": "code",
   "execution_count": 38,
   "id": "c032bb3a",
   "metadata": {},
   "outputs": [
    {
     "data": {
      "text/plain": [
       "'C:\\\\Users\\\\nutha'"
      ]
     },
     "execution_count": 38,
     "metadata": {},
     "output_type": "execute_result"
    }
   ],
   "source": [
    "os.getcwd()"
   ]
  },
  {
   "cell_type": "code",
   "execution_count": 39,
   "id": "88deee2b",
   "metadata": {},
   "outputs": [],
   "source": [
    "os.chdir('Desktop')"
   ]
  },
  {
   "cell_type": "code",
   "execution_count": 40,
   "id": "91a684f8",
   "metadata": {},
   "outputs": [
    {
     "data": {
      "text/plain": [
       "'C:\\\\Users\\\\nutha\\\\Desktop'"
      ]
     },
     "execution_count": 40,
     "metadata": {},
     "output_type": "execute_result"
    }
   ],
   "source": [
    "os.getcwd()"
   ]
  },
  {
   "cell_type": "code",
   "execution_count": 78,
   "id": "c7844c24",
   "metadata": {},
   "outputs": [],
   "source": [
    "df.to_excel('top 100 yt channels CleanedData.xlsx',header = True)"
   ]
  },
  {
   "cell_type": "code",
   "execution_count": 76,
   "id": "f26f6b24",
   "metadata": {},
   "outputs": [
    {
     "data": {
      "text/html": [
       "<div>\n",
       "<style scoped>\n",
       "    .dataframe tbody tr th:only-of-type {\n",
       "        vertical-align: middle;\n",
       "    }\n",
       "\n",
       "    .dataframe tbody tr th {\n",
       "        vertical-align: top;\n",
       "    }\n",
       "\n",
       "    .dataframe thead th {\n",
       "        text-align: right;\n",
       "    }\n",
       "</style>\n",
       "<table border=\"1\" class=\"dataframe\">\n",
       "  <thead>\n",
       "    <tr style=\"text-align: right;\">\n",
       "      <th></th>\n",
       "      <th>Channel Name</th>\n",
       "      <th>Subscribers(in Million)</th>\n",
       "      <th>Views(in Billion)</th>\n",
       "      <th>Videos</th>\n",
       "      <th>subscribers_range</th>\n",
       "    </tr>\n",
       "  </thead>\n",
       "  <tbody>\n",
       "    <tr>\n",
       "      <th>0</th>\n",
       "      <td>T-Series</td>\n",
       "      <td>248</td>\n",
       "      <td>232.0</td>\n",
       "      <td>19430.0</td>\n",
       "      <td>(200, 250]</td>\n",
       "    </tr>\n",
       "    <tr>\n",
       "      <th>1</th>\n",
       "      <td>MrBeast</td>\n",
       "      <td>181</td>\n",
       "      <td>31.0</td>\n",
       "      <td>747.0</td>\n",
       "      <td>(150, 200]</td>\n",
       "    </tr>\n",
       "    <tr>\n",
       "      <th>2</th>\n",
       "      <td>YouTube Movies</td>\n",
       "      <td>173</td>\n",
       "      <td>31.0</td>\n",
       "      <td>747.0</td>\n",
       "      <td>(150, 200]</td>\n",
       "    </tr>\n",
       "    <tr>\n",
       "      <th>3</th>\n",
       "      <td>Cocomelon - Nursery Rhymes</td>\n",
       "      <td>164</td>\n",
       "      <td>168.0</td>\n",
       "      <td>1001.0</td>\n",
       "      <td>(150, 200]</td>\n",
       "    </tr>\n",
       "    <tr>\n",
       "      <th>4</th>\n",
       "      <td>SET India</td>\n",
       "      <td>161</td>\n",
       "      <td>151.0</td>\n",
       "      <td>118126.0</td>\n",
       "      <td>(150, 200]</td>\n",
       "    </tr>\n",
       "    <tr>\n",
       "      <th>...</th>\n",
       "      <td>...</td>\n",
       "      <td>...</td>\n",
       "      <td>...</td>\n",
       "      <td>...</td>\n",
       "      <td>...</td>\n",
       "    </tr>\n",
       "    <tr>\n",
       "      <th>95</th>\n",
       "      <td>ช่อง One31</td>\n",
       "      <td>38</td>\n",
       "      <td>27.0</td>\n",
       "      <td>119042.0</td>\n",
       "      <td>(0, 50]</td>\n",
       "    </tr>\n",
       "    <tr>\n",
       "      <th>96</th>\n",
       "      <td>Maria Clara &amp; JP</td>\n",
       "      <td>38</td>\n",
       "      <td>25.0</td>\n",
       "      <td>753.0</td>\n",
       "      <td>(0, 50]</td>\n",
       "    </tr>\n",
       "    <tr>\n",
       "      <th>97</th>\n",
       "      <td>Jkk Entertainment</td>\n",
       "      <td>37</td>\n",
       "      <td>16.0</td>\n",
       "      <td>222.0</td>\n",
       "      <td>(0, 50]</td>\n",
       "    </tr>\n",
       "    <tr>\n",
       "      <th>98</th>\n",
       "      <td>ABP NEWS</td>\n",
       "      <td>37</td>\n",
       "      <td>13.0</td>\n",
       "      <td>301612.0</td>\n",
       "      <td>(0, 50]</td>\n",
       "    </tr>\n",
       "    <tr>\n",
       "      <th>99</th>\n",
       "      <td>YouTube</td>\n",
       "      <td>37</td>\n",
       "      <td>3.0</td>\n",
       "      <td>758.0</td>\n",
       "      <td>(0, 50]</td>\n",
       "    </tr>\n",
       "  </tbody>\n",
       "</table>\n",
       "<p>100 rows × 5 columns</p>\n",
       "</div>"
      ],
      "text/plain": [
       "                  Channel Name  Subscribers(in Million)  Views(in Billion)  \\\n",
       "0                     T-Series                      248              232.0   \n",
       "1                      MrBeast                      181               31.0   \n",
       "2               YouTube Movies                      173               31.0   \n",
       "3   Cocomelon - Nursery Rhymes                      164              168.0   \n",
       "4                    SET India                      161              151.0   \n",
       "..                         ...                      ...                ...   \n",
       "95                  ช่อง One31                       38               27.0   \n",
       "96            Maria Clara & JP                       38               25.0   \n",
       "97           Jkk Entertainment                       37               16.0   \n",
       "98                    ABP NEWS                       37               13.0   \n",
       "99                     YouTube                       37                3.0   \n",
       "\n",
       "      Videos subscribers_range  \n",
       "0    19430.0        (200, 250]  \n",
       "1      747.0        (150, 200]  \n",
       "2      747.0        (150, 200]  \n",
       "3     1001.0        (150, 200]  \n",
       "4   118126.0        (150, 200]  \n",
       "..       ...               ...  \n",
       "95  119042.0           (0, 50]  \n",
       "96     753.0           (0, 50]  \n",
       "97     222.0           (0, 50]  \n",
       "98  301612.0           (0, 50]  \n",
       "99     758.0           (0, 50]  \n",
       "\n",
       "[100 rows x 5 columns]"
      ]
     },
     "execution_count": 76,
     "metadata": {},
     "output_type": "execute_result"
    }
   ],
   "source": [
    "df"
   ]
  },
  {
   "cell_type": "code",
   "execution_count": null,
   "id": "0dbb7b97",
   "metadata": {},
   "outputs": [],
   "source": []
  }
 ],
 "metadata": {
  "kernelspec": {
   "display_name": "Python 3",
   "language": "python",
   "name": "python3"
  },
  "language_info": {
   "codemirror_mode": {
    "name": "ipython",
    "version": 3
   },
   "file_extension": ".py",
   "mimetype": "text/x-python",
   "name": "python",
   "nbconvert_exporter": "python",
   "pygments_lexer": "ipython3",
   "version": "3.8.8"
  }
 },
 "nbformat": 4,
 "nbformat_minor": 5
}
